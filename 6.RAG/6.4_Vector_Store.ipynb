{
 "cells": [
  {
   "cell_type": "code",
   "execution_count": null,
   "metadata": {},
   "outputs": [],
   "source": [
    "# 이전에 split했었던 문서에 embed 작업을 할것이다.\n",
    "# 먼저 embedding model에 대해 살펴보자 \n",
    "\n",
    "from langchain.embeddings import OpenAIEmbeddings\n",
    "\n",
    "embeddings = OpenAIEmbeddings()\n",
    "\n",
    "# print(embeddings.embed_query(\"Hi\")) # Hi에 대한 벡터를 얻게됨\n",
    "vector = embeddings.embed_query(\"Hi\")\n",
    "\n",
    "print(len(vector)) # \"Hi\"는 1536개의 차원을 가지고 있음\n"
   ]
  },
  {
   "cell_type": "code",
   "execution_count": null,
   "metadata": {},
   "outputs": [],
   "source": [
    "vector = embeddings.embed_documents([\n",
    "    \"Hi\",\n",
    "    \"how\",\n",
    "    \"are\",\n",
    "    \"you longer sentences because\"\n",
    "])\n",
    "\n",
    "# print(len(vector)) # 4개의 문장에 대해 벡터를 만들었기 때문에 4개의 벡터를 얻게됨\n",
    "print(len(vector), len(vector[0])) # 첫번째 문자 \"Hi\"에 대한 벡터는 1536개의 차원을 가지고 있음\n",
    "# print(vector)\n"
   ]
  },
  {
   "cell_type": "code",
   "execution_count": 1,
   "metadata": {},
   "outputs": [],
   "source": [
    "# vector store란 일종의 데이터베이스라고 생각하면 된다.\n",
    "# 벡터 공간에서 검색을 할 수 있게 해준다.\n",
    "# 우리가 벡터들을 만들고 나서, 그것들을 캐시해주고 vector store에 그 벡터들을 넣어주면 우리가 검색할 수 있다.\n",
    "# 관련있는 문서들만 찾아낼수 있다는 의미\n",
    "# 랭체인은 다양한 Vector Store를 지원한다. 그 중일부는 cloud에 있는데 유료도 있고 무료도 있다.\n",
    "# 여기선 오픈소스 하나를 사용할건데 cloud환경이 아닌 로컬에서 직접 실행할것이고 이름은 Chroma이다.\n",
    "# Chroma를 이용해 우리 문서들을 계산해서 얻어낸 vector들 속에서 검색을 할 수 있다.\n",
    "# 바로 실습해보자\n",
    "\n",
    "from langchain.chat_models import ChatOpenAI\n",
    "from langchain.document_loaders import UnstructuredFileLoader\n",
    "from langchain.text_splitter import RecursiveCharacterTextSplitter\n",
    "from langchain.text_splitter import CharacterTextSplitter \n",
    "from langchain.embeddings import OpenAIEmbeddings, CacheBackedEmbeddings # 분할된 문서와 openAI embeddings model을 전달해야된다.\n",
    "from langchain.vectorstores import Chroma # 크로마 불러오기\n",
    "from langchain.storage import LocalFileStore\n",
    "\n",
    "# 임베딩을 캐시하기 위해 캐시 디렉토리를 생성\n",
    "cache_dir = LocalFileStore(\"./.cache/\") # .cache 디렉토리를 생성됨 (여기에 임베딩된 데이터들이 저장됨)\n",
    "\n",
    "splitter = CharacterTextSplitter.from_tiktoken_encoder(\n",
    "    separator=\"\\n\", # 문단 기준으로 분할\n",
    "    chunk_size=600, # 최대 글자개수 600인 문서로 나눔 (separator가 없으면 좀 더 커질수도 있고 작아질 수도 있음)\n",
    "    chunk_overlap=100,\n",
    ")\n",
    "\n",
    "loader = UnstructuredFileLoader(\"./files/test.txt\")\n",
    "\n",
    "# 문서 분할\n",
    "docs = loader.load_and_split(text_splitter=splitter)\n",
    "\n",
    "# 임베딩 생성(벡터화)\n",
    "embeddings = OpenAIEmbeddings()\n",
    "\n",
    "# 임베딩을 저장할 장소인 cache_dir도 전달\n",
    "cached_embeddings = CacheBackedEmbeddings.from_bytes_store(\n",
    "    embeddings,\n",
    "    cache_dir,\n",
    ")\n",
    "\n",
    "# 분할된 문서와 openAI embeddings model을 전달해야된다.\n",
    "# 이렇게 임베딩을 캐싱하게되면 다음에 호출할때에 캐싱되어있는 임베딩을 전달하게 되어 요금을 아낄 수 있다.\n",
    "vector_store = Chroma.from_documents(\n",
    "    docs,\n",
    "    # embedding=embeddings,\n",
    "    cached_embeddings # 처음엔 캐시에 임베딩이 존재하는지 확인. 재 호출시 캐싱되어있는 임베딩을 전달\n",
    ")\n",
    "# 실행하면 바로 API요금이 나가니 너무 긴 문서로 테스트 하지 말자. 재시작도 하지 말고 밑에 코드에서 진행 (캐싱하면 상관없음)"
   ]
  },
  {
   "cell_type": "code",
   "execution_count": 2,
   "metadata": {},
   "outputs": [
    {
     "name": "stdout",
     "output_type": "stream",
     "text": [
      "[Document(page_content='Measureless sand ... interminable sand....\\nThe smooth hide of that yellow lion, Earth, Ruffled a little and was dark again Beneath the descending torrents of the night, Plunging like cobalt from the cliffs of the sky, Blotting the stiff wedge of each pyramid With the slow gurgle of a rising wave, A wave burning with stars....\\nThe Sphinx alone Couched on her forepaws like a sleepy hound Under the weight of a caress of rock And smiled her woman’s and chimera’s smile Inexorably, drowned with the savage dark.\\nThe black tide filled the heavens up and ceased, A little tongueing flame ran on the sand Bright as a fire of paper, swift and light As a bird’s restless eyes. It rose. It bloomed, An angry dream before the Sphinx’s feet, The exhalation of a furious thought, Tall as the ghosts of Heaven’s battlements, The apparition that had once been Troy!\\nA girl went out in the summer skies, (_The dice lie white for the throwing!_) A girl went out in the summer skies And the sunlight laughed as it kissed her eyes! (_And the wind of Fate is blowing!_)       _Song of the City Troy_\\nShe was ruddy and gold as a changing leaf When gilded Autumn gathers the sheaf.\\nShe was lily and pale as a sleeping moth When the full moon bleaches the skies like cloth.\\nThe grass was glad to be under her shoe, The poppy proud to be floor unto The silvering dance of her feet like dew!\\n... But her lord walks chill as a cloud of snow Where the kings of the earth are bending the bow.\\nThey are roaring the fame of the flying dart, But he whispers low, in a place apart, With the evil ice of his freezing heart.\\n“Helena, Helena, mouth of wine, Two more days for your sun to shine!\\nHelena, Helena, mouth of musk. Two more days and I make you dusk.\\nTwo more nights on your silky bed, And your lover over it, bloody and dead, And your body broken as I break bread!”\\nHis lips are writhing, sucking and cold, His hands are twitching like trees grown old, He shivers as if he had trod on mold.\\nThe _Golden Queen_ at her anchor strains. (_Sails on the sapphire, snowing_) Paris walks on the deck like a man in chains. (_And the wind of Fate is blowing._)\\nHe wastes in his love like leaves in a flame, But his mind is a spear in a dauntless game, And the face of his doom has a girl’s soft name.', metadata={'source': './files/test.txt'}), Document(page_content='The kings of the world have finished their chase, They dash their wine in the glorious face.\\nAnd Paris is dead in a sickly land; And they wrench the rings from the plume-white hand.\\nThey dice for her rings and the game is sweet And lean Menelaus is smiling sleet.\\nAnd the captains chuckle, counting their scars, For the hosts of the earth have finished their wars And Helen and Troy are cold as the stars.\\nWaves in the dusk with a sound like tears (_And the deep tide foaming and flowing_) Saying one name for a thousand years! (_And the wind of Fate is blowing!_)\\nLike air beaten by swords, like the long cry Of an old trumpet harsh with rust and gold The ballad rose assaulting, struck and died Into a clamorous echo. The Sphinx stirred, Shaking the drifted moonlight from her coat As a dog shakes water, rising mountainously; Then from that drum of terrible stone, her throat, Rolled back her answer at the enormous sky.\\nThe arrow of Eros flies       _The Song_ In the dark, in the trembling dark;       _of the_ Piercing and sweet is the song it cries       _Sphinx_ And the cup of the heart its mark! And the cup of the heart is dust, And the wine of the heart is spilled. And the barb flings whimpering back to Lust With “Master, see—I have killed!” _It was thus and thus that you were begot! I am Death’s bright arrow! Forgive me not!_\\nThe ribbon of Fate unreels In the road of the days and nights;\\nThere are flute-voiced airs for the dancing heels, But over them hang the kites! And the path grows dark as the laws And the kites drop down in a ring, Till a blind stag torn by the slashing claws Is the end of the trumpeting! _It is there and there that your fathers rot! I am Destiny’s halter! Unloose me not!_\\nThe mirror of Wisdom shines Like a face in a troubled pool. Like the eyes of a snake are its weaving signs To the eyes of the anxious fool. For the secret form of the soul Is there in its terror shown —And it rends the sight like a crumbling coal Till the eyes of the fool are stone! _It was this and this that your ardor sought! I am Wisdom’s mirror! Behold me not!_\\nThen, like a forgotten tumult of the heart, The multitude of men who died for Helen, Vague, terrible, wounded forms began to chant.', metadata={'source': './files/test.txt'}), Document(page_content='Like a perfume made intense, Like the planet of a dark, I became magnificence For my hour, in my spark, There is rapture in my ghost, Telling all my least and most.\\nFate and Wisdom, judging loud, These are shadows I can mock With the thoughtlessness of cloud, With the indolence of rock. Let them air the inn they keep! I am tired. I would sleep.\\nSo, with the pause, all earth and sky were still As if they had just been made—and the Sphinx lay Silent, engulfed in silence. Then she moved Uneasily, and settled back again, And in a low harshness of diminished sound Spoke out her final judgment.\\nZeus of the silver dawning took the scarf of a cloud, He quickened the wraith with fire till the life cried out aloud,\\nHe called Desire from his lightning, Despair from her weaving old, And they fashioned the shape to a woman that men might die to behold!\\nGolden Zeus of the sunbeam slapped his hand on his thigh       _The Last_ As the swords ran out of their scabbards and the arrows sang in the sky, _Song of the_ And the woman like leafy April was the chant that an archer sings _Sphinx_ Over sands grown bloody with purple that has come from the hearts of kings!\\nZeus of the brazen twilight, nodding his eyes awake, Armed him a doom for Helen lest Earth burn up for her sake; Chill on the heart of incense, the hands that desired so much, Fell the snow-like veil of his wisdom, till the flesh was still at its touch!\\nIron Zeus of the night-time, watching the chariot moon Trample the skies to whiteness, turns like a moving dune To gaze at the shade of Helen. His eyes as the skies are vast; Seeing her sleep like a swallow in Death’s wide bed at last.\\nHelen stood Within the tremendous circle of the paws, Moving like light towards the dark secret heart. The Sphinx cried terribly with a wordless sound Of birth and anguish struggling to be heard ... And the light vanished ... And Helen and the Sphinx Were one forever, stone and ghost and dream— And Troy was gone like vapor in the dark.\\nSo the dawn came, and toiling caravans, Whose princes halted, arrogant as hawks, To stare but once into the Sphinx’s eyes ... And so were staring till Death breathed on them With the slant feathers of his ruffling wing, Seeking within the rock, the stubborn rock. The gaze and burning of their Lost Desire.', metadata={'source': './files/test.txt'}), Document(page_content='THE FIRST VISION OF HELEN\\n_Argument—Itys, nurtured by centaurs, meets and falls in love with Helen of Troy, before her marriage with Menelaus. What befell therefrom._\\nSlowly blanch-handed Dawn, eyes half-awake, Upraised magnificent the silver urn, Heaped with white roses at the trembling lip, Flowers that burn with crystalline accord And die not ever. Like a pulsing heart Beat from within against the fire-loud verge A milky vast transparency of light Heavy with drowning stars; a swimming void       _Morning._ Of august ether, formless as the cloud, And light made absolute. The mountains sighed, Turning in sleep. Dawn held the frozen flame An instant high above the shaggy world, Then, to the crowing of a thousand cocks, Poured out on earth the unconquerable sun!\\nThe centaurs awoke! they aroused from their beds of pine, Their long flanks hoary with dew, and their eyes, deep-drowned In the primal slumber of stones, stirred bright to the shine! And they stamped with their hooves and their gallop abased the ground!\\nSwifter than arrowy birds in an eager sky,       _The_ White-browed kings of the hills where old Titans feast,       _Running_ —Cheiron ordered the charge with a neighing cry,       _of the_ And the thousand hunters tramped like a single beast! _Centaurs._\\nBeautiful monstrous dreams they seemed as they ran, Trees come alive at the nod of a god grown mute! Their eyes looked up to the sun like a valiant man; Their bows clashed shrill on the loins and limbs of the brute!\\nLaughing, rejoicing, white as a naked birch, Slim as a spear in a torrent of moving towers, Itys, the prince, ran gay in the storm of their search, Silverly shod on feet that outstripped the Hours!\\nOver by Sparta bays a horn! _Ohé, Helena!_ Over by Sparta bays a horn! And the black hound grins to his milk-teeth torn; And the tall stag wishes he’d never been born! _Helena hunts on the hills!_\\nPast the Eurotas the chase sweeps hot! _Ohé, Helena!_ Past the Eurotas the chase sweeps hot! And the pack has nosed at a royal slot! And a white-armed girl has a magic lot! _Helena hunts on the hills!_', metadata={'source': './files/test.txt'})]\n"
     ]
    }
   ],
   "source": [
    "# 벡터 공간에서 검색을 시작할 수 있다.\n",
    "# 우리의 문서들이 벡터로 변환되고 그 벡터 공간을 검색 할 수 있게 된다.\n",
    "results = vector_store.similarity_search(\"뭘 설명하고 있습니까?\")\n",
    "\n",
    "# 검색을 하게되면 그 질문(query)과 관련있는 문서들을 반환하게 된다.\n",
    "# 받은 문서들이 너무 크면 엄청 큰 문서들이 LLM에게 전달될것이고, 그만큼 돈을 지출하게 된다.\n",
    "# 그래서 작은 부분으로 분할(split)해서 전달하는 방법은 좋은 아이디어다. (너무 작게 분할하면 문백과 의미가 사라질수 있기 때문에 적당히 분할해야된다.)\n",
    "\n",
    "# len(results)\n",
    "print(results)"
   ]
  },
  {
   "cell_type": "code",
   "execution_count": null,
   "metadata": {},
   "outputs": [],
   "source": []
  }
 ],
 "metadata": {
  "kernelspec": {
   "display_name": "env",
   "language": "python",
   "name": "python3"
  },
  "language_info": {
   "codemirror_mode": {
    "name": "ipython",
    "version": 3
   },
   "file_extension": ".py",
   "mimetype": "text/x-python",
   "name": "python",
   "nbconvert_exporter": "python",
   "pygments_lexer": "ipython3",
   "version": "3.11.6"
  }
 },
 "nbformat": 4,
 "nbformat_minor": 2
}
