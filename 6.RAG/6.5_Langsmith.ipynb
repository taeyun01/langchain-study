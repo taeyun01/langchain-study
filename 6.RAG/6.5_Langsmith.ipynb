{
 "cells": [
  {
   "cell_type": "code",
   "execution_count": null,
   "metadata": {},
   "outputs": [],
   "source": [
    "# Langsmith에 가입하고 api키 및 엔드포인트 발급 받기\n",
    "# https://smith.langchain.com\n",
    "# .env 파일에 키 입력\n",
    "# 이제 chain을 실행할 때마다, 작업을 내 대쉬보드 project에서 볼 수있음"
   ]
  }
 ],
 "metadata": {
  "language_info": {
   "name": "python"
  }
 },
 "nbformat": 4,
 "nbformat_minor": 2
}
