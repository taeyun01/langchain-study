{
 "cells": [
  {
   "cell_type": "code",
   "execution_count": null,
   "metadata": {},
   "outputs": [],
   "source": [
    "# Tiktoken은 OpenAI에서 만든 토큰화 라이브러리\n",
    "from langchain.chat_models import ChatOpenAI\n",
    "from langchain.document_loaders import UnstructuredFileLoader\n",
    "from langchain.text_splitter import RecursiveCharacterTextSplitter\n",
    "from langchain.text_splitter import CharacterTextSplitter # \n",
    "\n",
    "# model에는 한계(limit)가 있어서 원하는 텍스트들을 모두 한번에 입력할 수 없음\n",
    "splitter2 = CharacterTextSplitter.from_tiktoken_encoder(\n",
    "    separator=\"\\n\", # 문단 기준으로 분할\n",
    "    chunk_size=600, # 최대 글자개수 600인 문서로 나눔 (separator가 없으면 좀 더 커질수도 있고 작아질 수도 있음)\n",
    "    chunk_overlap=100,\n",
    ")\n",
    "\n",
    "loader = UnstructuredFileLoader(\"./files/ai-agent.pdf\")\n",
    "\n",
    "print(loader.load_and_split(text_splitter=splitter2))\n",
    "\n",
    "# 파이썬에서 함수를 사용해서 분할하는게 아닌 문장과 문단 구조를 유지하고 문서를 나눈 것\n"
   ]
  }
 ],
 "metadata": {
  "language_info": {
   "name": "python"
  }
 },
 "nbformat": 4,
 "nbformat_minor": 2
}
