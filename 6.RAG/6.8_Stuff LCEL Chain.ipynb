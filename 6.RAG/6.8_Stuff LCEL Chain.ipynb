{
 "cells": [
  {
   "cell_type": "code",
   "execution_count": 5,
   "metadata": {},
   "outputs": [
    {
     "data": {
      "text/plain": [
       "AIMessage(content='측량할 수 없는 모래... 끝없는 모래... 노란 사자인 지구의 매끄러운 털은 하늘의 절벽에서 코발트처럼 떨어지는 밤의 폭우로 조금 흐트러지고 다시 어두워졌습니다. 천장의 가파른 절벽에서 느릿느릿이 오르는 파도의 소리로 각 피라미드의 단단한 쐐기를 가렸습니다. 별들로 불타는 파도... 스핑크스만 혼자 낮잠자는 개처럼 앞발로 누워 바위의 애정을 받아들이고 무자비한 어둠에 물들었습니다. 검은 조류가 하늘을 가득 채웠다가 멈추었고, 모래 위를 빠르고 가벼운 새의 눈처럼 빛나는 종이 불처럼 불 붙었습니다. 그것은 일어섰습니다. 피어났고, 스핑크스의 발 앞에 분노의 꿈, 천국의 성벽의 유령들만큼 큰, 한 번 트로이였던 모습이 나타났습니다! 여름 하늘로 나간 소녀가 있었습니다. (_주사위는 던져질 준비가 되어 있습니다!_) 여름 하늘로 나간 소녀가 있었고 햇빛이 눈을 키스할 때 웃었습니다! (_운명의 바람이 부는 중입니다!_) _도시 트로이의 노래_ 그녀는 가을이 황금빛으로 모아들 때 변하는 잎처럼 붉고 금빛이었습니다. 그녀는 달이 하늘을 천천히 표백할 때 자는 나방처럼 창백하고 연한 색이었습니다. 풀은 그녀의 신발 아래서 기뻤고 양귀비는 이슬처럼 그녀의 발의 은빛 춤을 위한 바닥이 되어 자랑스러웠습니다! ... 그러나 그녀의 남편은 구름처럼 차가운 곳을 걸어다닙니다. 대지의 왕들이 활을 굽히고 있을 때 그는 낮은 목소리로, 한 곳에서, 땅속의 얼음처럼 얼어붙은 심장으로 속삭였습니다. \"헬레나, 와인의 입술, 네 태양이 더 빛나기까지 두 날이 더 있습니다! 헬레나, 진향의 입술, 두 날이 더 있으면 너를 황혼으로 만들 것입니다. 네 은발 위에 두 밤이 더 있고, 네 연인이 그 위에, 피투성이로 죽어 있고, 네 몸이 내 빵처럼 부서질 것입니다!\" 그의 입술은 뒤틀리며 흡입하고 차갑습니다. 그의 손은 나무처럼 늙어서 떨리며, 곰팡이에 밟힌 것처럼 전율합니다. _황금 여왕_은 그녀의 닻에 몸을 낮추었습니다. (_사파이어, 눈이 내리는 바다를 항해합니다!_) 파리스는 사슴떼처럼 갇힌 사람처럼 갑판 위를 걸어다닙니다. (_운명의 바람이 부는 중입니다!_) 그는 그의 사랑에 시들어가지만 마음은 무모한 게임에서 창의가 되고, 그의 운명의 얼굴은 소녀의 부드러운 이름을 가지고 있습니다.')"
      ]
     },
     "execution_count": 5,
     "metadata": {},
     "output_type": "execute_result"
    }
   ],
   "source": [
    "\n",
    "from langchain.chat_models import ChatOpenAI\n",
    "from langchain.document_loaders import UnstructuredFileLoader\n",
    "from langchain.text_splitter import CharacterTextSplitter\n",
    "from langchain.embeddings import OpenAIEmbeddings, CacheBackedEmbeddings\n",
    "from langchain.vectorstores import FAISS\n",
    "from langchain.storage import LocalFileStore\n",
    "from langchain.prompts import ChatPromptTemplate\n",
    "from langchain.schema.runnable import RunnablePassthrough\n",
    "\n",
    "llm = ChatOpenAI(\n",
    "    temperature=0.1,\n",
    ")\n",
    "\n",
    "cache_dir = LocalFileStore(\"./.cache/\")\n",
    "\n",
    "splitter = CharacterTextSplitter.from_tiktoken_encoder(\n",
    "    separator=\"\\n\",\n",
    "    chunk_size=600,\n",
    "    chunk_overlap=100,\n",
    ")\n",
    "loader = UnstructuredFileLoader(\"./files/test.txt\")\n",
    "\n",
    "docs = loader.load_and_split(text_splitter=splitter)\n",
    "\n",
    "embeddings = OpenAIEmbeddings()\n",
    "\n",
    "cached_embeddings = CacheBackedEmbeddings.from_bytes_store(embeddings, cache_dir)\n",
    "\n",
    "vectorstore = FAISS.from_documents(docs, cached_embeddings)\n",
    "\n",
    "retriver = vectorstore.as_retriever()\n",
    "\n",
    "prompt = ChatPromptTemplate.from_messages(\n",
    "    [\n",
    "        (\n",
    "            \"system\",\n",
    "            \"You are a helpful assistant. Answer questions using only the following context. If you don't know the answer just say you don't know, don't make it up:\\n\\n{context}\",\n",
    "        ),\n",
    "        (\"human\", \"{question}\"),\n",
    "    ]\n",
    ")\n",
    "\n",
    "chain = (\n",
    "    {\n",
    "        \"context\": retriver,\n",
    "        \"question\": RunnablePassthrough(),\n",
    "    }\n",
    "    | prompt\n",
    "    | llm\n",
    ")\n",
    "\n",
    "print(chain.invoke(\"무슨 내용인지 자세히 설명해주세요\"))\n"
   ]
  }
 ],
 "metadata": {
  "kernelspec": {
   "display_name": "env",
   "language": "python",
   "name": "python3"
  },
  "language_info": {
   "codemirror_mode": {
    "name": "ipython",
    "version": 3
   },
   "file_extension": ".py",
   "mimetype": "text/x-python",
   "name": "python",
   "nbconvert_exporter": "python",
   "pygments_lexer": "ipython3",
   "version": "3.11.6"
  }
 },
 "nbformat": 4,
 "nbformat_minor": 2
}
