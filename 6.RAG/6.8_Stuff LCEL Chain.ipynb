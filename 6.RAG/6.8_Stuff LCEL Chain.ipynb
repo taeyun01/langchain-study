{
 "cells": [
  {
   "cell_type": "code",
   "execution_count": 6,
   "metadata": {},
   "outputs": [
    {
     "name": "stdout",
     "output_type": "stream",
     "text": [
      "content='측량할 수 없는 모래... 끝없는 모래... 노란 사자인 지구의 매끈한 털은 밤의 쏟아지는 폭포 아래 조금 흐려지고 다시 어두워졌습니다. 하늘 절벽에서 코발트처럼 떨어지는 파도처럼, 각 피라미드의 단단한 쐐기를 천천히 물결 소리로 덮어가며, 별들로 불타는 파도... 스핑크스만 혼자 낮잠자는 개처럼 앞발로 눕혀 바위의 애정을 받아들이고, 여자와 키메라의 미소를 무자비하게 지으며 야만스러운 어둠에 물들었습니다. 검은 조류가 하늘을 가득 채웠다가 멈추고, 모래 위를 빠르고 가벼운 새의 눈처럼 빛나는 종이 불 같은 불길이 올라왔습니다. 그것은 높은 하늘의 성벽의 유령처럼, 한 때 트로이였던 환영이었습니다! 여름 하늘로 나간 소녀가 있었어요. (_주사위는 던져질 준비가 되어 있어요!_) 여름 하늘로 나간 소녀가 있었어요. 그리고 햇빛이 그녀의 눈을 키스하며 웃었어요! (_운명의 바람이 부는 중이에요!_) _트로이 도시의 노래_ 그녀는 가을이 황금빛으로 모아들 때 변하는 잎처럼 붉고 금빛이었습니다. 그녀는 달이 하늘을 천천히 털어낼 때 잠든 나방처럼 창백하고 연한 색이었습니다. 풀은 그녀의 신발 아래에 있어 기뻤고, 양귀비는 이슬처럼 그녀의 발의 은빛 춤의 바닥이 되어 자랑스러웠습니다! ... 그러나 그녀의 남편은 구름처럼 차가운 걸음으로 걷고 있었어요. 대지의 왕들이 활을 굽히고 있는 곳에서. 그들은 날카로운 화살의 명성을 외치고 있지만, 그는 한편으로 조용히 속삭였어요. 얼음처럼 차가운 그의 심장으로. \"헬레나, 와인의 입술, 네 태양이 더 빛나기까지 두 날이 더 있어. 헬레나, 진향의 입술, 두 날이 더 있으면 너를 황혼으로 만들 거야. 네 은발 위에 두 밤이 더 있고, 네 연인이 그 위에, 피투성이로 죽어 있을 거야, 네 몸이 내가 빵처럼 부수듯 부서질 거야!\" 그의 입술은 굽이굽이하며 빨고 차갑고, 그의 손은 나무처럼 늙어서 떨리고 있었고, 곰팡이에 밟힌 것처럼 전율하고 있었어요. _황금 여왕_은 그녀의 닻에 몸을 낮추었습니다. (_사파이어 위를 항해하며 눈이 내리는 중이에요!_) 파리스는 사슴떼처럼 갇혀 있는 사람처럼 갑판 위를 걸어 다녔어요. (_운명의 바람이 부는 중이에요!_) 그는 그의 사랑 속에서 잃어가고 있었지만, 그의 마음은 불굴의 게임에서 창을 들고 있었고, 그의 운명의 얼굴은 소녀의 부드러운 이름을 가지고 있었어요.'\n"
     ]
    }
   ],
   "source": [
    "\n",
    "from langchain.chat_models import ChatOpenAI\n",
    "from langchain.document_loaders import UnstructuredFileLoader\n",
    "from langchain.text_splitter import CharacterTextSplitter\n",
    "from langchain.embeddings import OpenAIEmbeddings, CacheBackedEmbeddings\n",
    "from langchain.vectorstores import FAISS\n",
    "from langchain.storage import LocalFileStore\n",
    "from langchain.prompts import ChatPromptTemplate\n",
    "from langchain.schema.runnable import RunnablePassthrough\n",
    "\n",
    "llm = ChatOpenAI(\n",
    "    temperature=0.1,\n",
    ")\n",
    "\n",
    "cache_dir = LocalFileStore(\"./.cache/\")\n",
    "\n",
    "splitter = CharacterTextSplitter.from_tiktoken_encoder(\n",
    "    separator=\"\\n\",\n",
    "    chunk_size=600,\n",
    "    chunk_overlap=100,\n",
    ")\n",
    "loader = UnstructuredFileLoader(\"./files/test.txt\")\n",
    "\n",
    "docs = loader.load_and_split(text_splitter=splitter)\n",
    "\n",
    "embeddings = OpenAIEmbeddings()\n",
    "\n",
    "cached_embeddings = CacheBackedEmbeddings.from_bytes_store(embeddings, cache_dir)\n",
    "\n",
    "vectorstore = FAISS.from_documents(docs, cached_embeddings)\n",
    "\n",
    "retriver = vectorstore.as_retriever()\n",
    "\n",
    "prompt = ChatPromptTemplate.from_messages(\n",
    "    [\n",
    "        (\n",
    "            \"system\",\n",
    "            \"You are a helpful assistant. Answer questions using only the following context. If you don't know the answer just say you don't know, don't make it up:\\n\\n{context}\",\n",
    "        ),\n",
    "        (\"human\", \"{question}\"),\n",
    "    ]\n",
    ")\n",
    "\n",
    "chain = (\n",
    "    {\n",
    "        \"context\": retriver,\n",
    "        \"question\": RunnablePassthrough(),\n",
    "    }\n",
    "    | prompt\n",
    "    | llm\n",
    ")\n",
    "\n",
    "print(chain.invoke(\"무슨 내용인지 자세히 설명해주세요\"))\n"
   ]
  }
 ],
 "metadata": {
  "kernelspec": {
   "display_name": "env",
   "language": "python",
   "name": "python3"
  },
  "language_info": {
   "codemirror_mode": {
    "name": "ipython",
    "version": 3
   },
   "file_extension": ".py",
   "mimetype": "text/x-python",
   "name": "python",
   "nbconvert_exporter": "python",
   "pygments_lexer": "ipython3",
   "version": "3.11.6"
  }
 },
 "nbformat": 4,
 "nbformat_minor": 2
}
