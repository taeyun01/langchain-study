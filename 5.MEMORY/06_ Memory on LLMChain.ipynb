{
 "cells": [
  {
   "cell_type": "code",
   "execution_count": 16,
   "metadata": {},
   "outputs": [
    {
     "name": "stdout",
     "output_type": "stream",
     "text": [
      "\n",
      "\n",
      "\u001b[1m> Entering new LLMChain chain...\u001b[0m\n",
      "Prompt after formatting:\n",
      "\u001b[32;1m\u001b[1;3m\n",
      "    당신은 인간과 대화하는 유용한 AI입니다.\n",
      "    그리고 한국어로만 대화합니다.\n",
      "\n",
      "    \n",
      "    Human: 내 이름은 길동이라고해 반가워!\n",
      "    You:\n",
      "\u001b[0m\n",
      "\n",
      "\u001b[1m> Finished chain.\u001b[0m\n"
     ]
    },
    {
     "data": {
      "text/plain": [
       "'안녕, 길동이! 나는 당신을 만나서 반가워요. 어떻게 도와드릴까요?'"
      ]
     },
     "execution_count": 16,
     "metadata": {},
     "output_type": "execute_result"
    }
   ],
   "source": [
    "# memory를 chain에 꽂는 방법과 두 종류의 체인을 사용해서 꽂는 방법 알아보기\n",
    "# memory.load.variables({}) 이런거 계속 안적어 줘도됨\n",
    "\n",
    "from langchain.memory import ConversationSummaryBufferMemory\n",
    "from langchain.chat_models import ChatOpenAI\n",
    "from langchain.chains import LLMChain\n",
    "from langchain.prompts import PromptTemplate\n",
    "\n",
    "llm = ChatOpenAI(temperature=0.1)\n",
    "\n",
    "memory = ConversationSummaryBufferMemory(\n",
    "    llm=llm,\n",
    "    max_token_limit=120,\n",
    "    memory_key=\"chat_history\" # 이제 memory.load.variables({}) 이런거 계속 안적어 줘도됨\n",
    "                              # memory_key를 불러주기만 하면됨\n",
    ")\n",
    "\n",
    "# AI가 우리 대화 기록을 기억하여 question을 완성할 수 있도록 해보자 \n",
    "# template안에 memory가 history를 저장하도록 한 곳을 적어주면 됨 (위 변수명이랑 동일하게 적어줌(chat_history))\n",
    "# memory는 template안에 대화 기록을 저장하는 공간을 찾고 자동으로 메모리 기억을 {chat_history}에 저장함\n",
    "template = \"\"\"\n",
    "    당신은 인간과 대화하는 유용한 AI입니다.\n",
    "    그리고 한국어로만 대화합니다.\n",
    "\n",
    "    {chat_history}\n",
    "    Human: {question}\n",
    "    You:\n",
    "\"\"\"\n",
    "\n",
    "chain = LLMChain(\n",
    "    llm=llm,\n",
    "    memory=memory,\n",
    "    prompt=PromptTemplate.from_template(template),\n",
    "    verbose=True # chain의 출력을 보여줌 (프롬프트 로그확인)\n",
    ")\n",
    "\n",
    "chain.predict(question=\"내 이름은 길동이라고해 반가워!\")\n",
    "\n"
   ]
  },
  {
   "cell_type": "code",
   "execution_count": 17,
   "metadata": {},
   "outputs": [
    {
     "name": "stdout",
     "output_type": "stream",
     "text": [
      "\n",
      "\n",
      "\u001b[1m> Entering new LLMChain chain...\u001b[0m\n",
      "Prompt after formatting:\n",
      "\u001b[32;1m\u001b[1;3m\n",
      "    당신은 인간과 대화하는 유용한 AI입니다.\n",
      "    그리고 한국어로만 대화합니다.\n",
      "\n",
      "    Human: 내 이름은 길동이라고해 반가워!\n",
      "AI: 안녕, 길동이! 나는 당신을 만나서 반가워요. 어떻게 도와드릴까요?\n",
      "    Human: 나는 서울에 살아 너는 어디 살아?\n",
      "    You:\n",
      "\u001b[0m\n",
      "\n",
      "\u001b[1m> Finished chain.\u001b[0m\n"
     ]
    },
    {
     "data": {
      "text/plain": [
       "'AI: 나는 인터넷 상에 살고 있어요. 언제든지 여기에서 당신을 도와드릴 준비가 되어 있어요. 어떤 것이든 물어보세요!'"
      ]
     },
     "execution_count": 17,
     "metadata": {},
     "output_type": "execute_result"
    }
   ],
   "source": [
    "chain.predict(question=\"나는 서울에 살아 너는 어디 살아?\")"
   ]
  },
  {
   "cell_type": "code",
   "execution_count": 18,
   "metadata": {},
   "outputs": [
    {
     "name": "stdout",
     "output_type": "stream",
     "text": [
      "\n",
      "\n",
      "\u001b[1m> Entering new LLMChain chain...\u001b[0m\n",
      "Prompt after formatting:\n",
      "\u001b[32;1m\u001b[1;3m\n",
      "    당신은 인간과 대화하는 유용한 AI입니다.\n",
      "    그리고 한국어로만 대화합니다.\n",
      "\n",
      "    System: The human introduces themselves as Gil-dong and the AI responds warmly. The AI asks how it can help Gil-dong.\n",
      "Human: 나는 서울에 살아 너는 어디 살아?\n",
      "AI: AI: 나는 인터넷 상에 살고 있어요. 언제든지 여기에서 당신을 도와드릴 준비가 되어 있어요. 어떤 것이든 물어보세요!\n",
      "    Human: 내 이름이 뭐야?\n",
      "    You:\n",
      "\u001b[0m\n",
      "\n",
      "\u001b[1m> Finished chain.\u001b[0m\n"
     ]
    },
    {
     "data": {
      "text/plain": [
       "'AI: 당신의 이름은 길동이에요. 어떻게 도와드릴까요, 길동씨?'"
      ]
     },
     "execution_count": 18,
     "metadata": {},
     "output_type": "execute_result"
    }
   ],
   "source": [
    "# 설정해둔 토큰값이 넘어가면 이전 메세지들을 요약해준다\n",
    "chain.predict(question=\"내 이름이 뭐야?\")"
   ]
  },
  {
   "cell_type": "code",
   "execution_count": 22,
   "metadata": {},
   "outputs": [
    {
     "name": "stdout",
     "output_type": "stream",
     "text": [
      "\n",
      "\n",
      "\u001b[1m> Entering new LLMChain chain...\u001b[0m\n",
      "Prompt after formatting:\n",
      "\u001b[32;1m\u001b[1;3m\n",
      "    당신은 인간과 대화하는 유용한 AI입니다.\n",
      "    그리고 한국어로만 대화합니다.\n",
      "\n",
      "    System: Gil-dong introduces himself and the AI responds warmly, offering to help. Gil-dong asks where the AI lives, and it responds that it lives on the internet and is ready to assist anytime. Gil-dong then asks what his name is, and the AI correctly identifies him as Gil-dong. He expresses his desire to become a developer and asks for advice. The AI suggests learning programming languages like Python or JavaScript, taking online courses, reading books, and working on projects to build knowledge. It emphasizes the importance of continuous learning and passion in becoming a developer. Gil-dong thanks the AI and expresses the difficulty of job hunting. The AI encourages him not to give up, to put in effort, and to prepare well for interviews. It recommends taking online courses and attending job-related seminars. The AI offers support and encouragement to Gil-dong in his job search journey.\n",
      "    Human: 개발자가 되고 싶은데 어떻게 하면될까?\n",
      "    You:\n",
      "\u001b[0m\n",
      "\n",
      "\u001b[1m> Finished chain.\u001b[0m\n"
     ]
    },
    {
     "data": {
      "text/plain": [
       "'개발자가 되고 싶으시다면 먼저 Python이나 JavaScript와 같은 프로그래밍 언어를 배우시는 것이 좋습니다. 온라인 강의를 수강하거나 책을 읽으며 지식을 쌓고 프로젝트를 진행해보세요. 계속된 학습과 열정이 개발자가 되는 데 중요합니다. 포기하지 말고 노력하고 면접 준비를 잘 해보세요. 온라인 강의나 취업 관련 세미나에 참석하는 것도 도움이 될 것입니다. 개발자로서의 꿈을 이루는 데 도움이 되도록 지원하겠습니다. 함께 응원하겠습니다.'"
      ]
     },
     "execution_count": 22,
     "metadata": {},
     "output_type": "execute_result"
    }
   ],
   "source": [
    "# 설정해둔 토큰값이 넘어가면 이전 메세지들을 요약해준다\n",
    "chain.predict(question=\"개발자가 되고 싶은데 어떻게 하면될까?\")"
   ]
  },
  {
   "cell_type": "code",
   "execution_count": null,
   "metadata": {},
   "outputs": [],
   "source": []
  }
 ],
 "metadata": {
  "kernelspec": {
   "display_name": "env",
   "language": "python",
   "name": "python3"
  },
  "language_info": {
   "codemirror_mode": {
    "name": "ipython",
    "version": 3
   },
   "file_extension": ".py",
   "mimetype": "text/x-python",
   "name": "python",
   "nbconvert_exporter": "python",
   "pygments_lexer": "ipython3",
   "version": "3.11.6"
  }
 },
 "nbformat": 4,
 "nbformat_minor": 2
}
