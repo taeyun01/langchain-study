{
 "cells": [
  {
   "cell_type": "code",
   "execution_count": 1,
   "metadata": {},
   "outputs": [],
   "source": [
    "# ConversationSummaryMemory : 대화의 요약을 저장하는 메모리\n",
    "# 메세지를 그대로 저장하는것이 아닌 대화의 요약을 자체적으로 해줌\n",
    "# 긴 대화내용이 있을 때, 쓰면 유용 (저장하는것보다는 요약하는것이 토큰의 양도 줄어들어 훨씬 나은 방법)\n",
    "# 대화내용이 별로 없으면 더 많은 토큰을 필요 하겠지만, 대화 메세지가 길수록 각각 메시지보다 더 효율적이다.\n",
    "\n",
    "from langchain.memory import ConversationSummaryMemory\n",
    "from langchain.chat_models import ChatOpenAI\n",
    "\n",
    "llm = ChatOpenAI(temperature=0.1)\n",
    "\n",
    "# ConversationSummaryMemory초기값에 llm할당. (메모리 실행시 비용이 든다는 뜻)\n",
    "memory = ConversationSummaryMemory(llm=llm)\n",
    "\n",
    "def add_message(input, output):\n",
    "    memory.save_context({\"input\": input}, {\"output\": output})\n",
    "\n",
    "def get_history():\n",
    "    return memory.load_memory_variables({})\n",
    "\n",
    "add_message(\"안녕 애플 나는 한국이 너무 좋다\", \"와우 정말 멋진걸!?\")\n",
    "\n"
   ]
  },
  {
   "cell_type": "code",
   "execution_count": 2,
   "metadata": {},
   "outputs": [],
   "source": [
    "add_message(\"한국은 너무 아름다워\", \"나도 가고 싶다..\")"
   ]
  },
  {
   "cell_type": "code",
   "execution_count": 3,
   "metadata": {},
   "outputs": [
    {
     "data": {
      "text/plain": [
       "{'history': 'The human greets the AI in Korean and expresses their love for Korea. The AI responds enthusiastically, impressed by the sentiment and expresses a desire to visit Korea as well.'}"
      ]
     },
     "execution_count": 3,
     "metadata": {},
     "output_type": "execute_result"
    }
   ],
   "source": [
    "# 이전 대화내용을 요약해주는걸 볼 수 있다.\n",
    "get_history()"
   ]
  },
  {
   "cell_type": "code",
   "execution_count": null,
   "metadata": {},
   "outputs": [],
   "source": []
  }
 ],
 "metadata": {
  "kernelspec": {
   "display_name": "env",
   "language": "python",
   "name": "python3"
  },
  "language_info": {
   "codemirror_mode": {
    "name": "ipython",
    "version": 3
   },
   "file_extension": ".py",
   "mimetype": "text/x-python",
   "name": "python",
   "nbconvert_exporter": "python",
   "pygments_lexer": "ipython3",
   "version": "3.11.6"
  }
 },
 "nbformat": 4,
 "nbformat_minor": 2
}
