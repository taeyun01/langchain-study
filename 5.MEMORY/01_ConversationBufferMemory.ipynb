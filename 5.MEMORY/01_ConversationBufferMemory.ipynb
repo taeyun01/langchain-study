{
 "cells": [
  {
   "cell_type": "code",
   "execution_count": 2,
   "metadata": {},
   "outputs": [
    {
     "data": {
      "text/plain": [
       "{'history': [HumanMessage(content='안녕하세요?'),\n",
       "  AIMessage(content='안녕하세요! 무엇을 도와드릴까요?')]}"
      ]
     },
     "execution_count": 2,
     "metadata": {},
     "output_type": "execute_result"
    }
   ],
   "source": [
    "# ConversationBufferMemory : 이전 대화내용을 전체 기억 (단점: 대화내용이 많아질수록 메모리도 커져서 비효율적)\n",
    "\n",
    "from langchain.memory import ConversationBufferMemory\n",
    "\n",
    "memory = ConversationBufferMemory(return_messages=True)\n",
    "\n",
    "# 모든 메모리는 save_context, load_memory_variables 이런 함수들을 갖고 있음. 메모리 종류만 다를 뿐\n",
    "memory.save_context({\"input\": \"안녕하세요?\"}, {\"output\": \"안녕하세요! 무엇을 도와드릴까요?\"})\n",
    "\n",
    "memory.load_memory_variables({}) # 대회 기록을 보여줌 (대화 내용이 저장되는걸 볼 수 있음)\n",
    "# 해당 메모리는 text completion 할때 유용함. 예측해야할때. 텍스트를 자동완성 하고 싶을 때 등등..\n"
   ]
  },
  {
   "cell_type": "code",
   "execution_count": 6,
   "metadata": {},
   "outputs": [
    {
     "data": {
      "text/plain": [
       "{'history': [HumanMessage(content='안녕하세요?'),\n",
       "  AIMessage(content='안녕하세요! 무엇을 도와드릴까요?'),\n",
       "  HumanMessage(content='당신은 누군가요?'),\n",
       "  AIMessage(content='저는 비서입니다!')]}"
      ]
     },
     "execution_count": 6,
     "metadata": {},
     "output_type": "execute_result"
    }
   ],
   "source": [
    "memory.save_context({\"input\": \"당신은 누군가요?\"}, {\"output\": \"저는 비서입니다!\"})\n",
    "memory.load_memory_variables({}) # 대화 내용이 계속 쌓이는걸 볼 수 있다."
   ]
  },
  {
   "cell_type": "code",
   "execution_count": null,
   "metadata": {},
   "outputs": [],
   "source": []
  }
 ],
 "metadata": {
  "kernelspec": {
   "display_name": "env",
   "language": "python",
   "name": "python3"
  },
  "language_info": {
   "codemirror_mode": {
    "name": "ipython",
    "version": 3
   },
   "file_extension": ".py",
   "mimetype": "text/x-python",
   "name": "python",
   "nbconvert_exporter": "python",
   "pygments_lexer": "ipython3",
   "version": "3.11.6"
  }
 },
 "nbformat": 4,
 "nbformat_minor": 2
}
