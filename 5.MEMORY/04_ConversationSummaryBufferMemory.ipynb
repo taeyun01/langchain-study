{
 "cells": [
  {
   "cell_type": "code",
   "execution_count": 1,
   "metadata": {},
   "outputs": [],
   "source": [
    "# ConversationSummaryBufferMemory : 앞서 이전대화내용저장메모리 + 최근대화저장메모리 + 대화요약메모리를 결합한 메모리다\n",
    "# 메모리에 보내온 메시지의 수를 저장하는 것이다.\n",
    "# 최근 4개의 대화만 저장한다고 하면, 5개 부터는 제일 오래된 메세지가 삭제됐는데\n",
    "# 이떄 오래된 대화 메세지들은 요약하고, 최근 메세지들은 저장하는 방식이다.\n",
    "# 가장 최근 및 가장 오래 전에 주고 받은 메세지 모두 잊혀지지 않고 요약한다.\n",
    "# 단점 : 이것도 요약하는거라 비용이 든다.\n",
    "\n",
    "from langchain.memory import ConversationSummaryBufferMemory\n",
    "from langchain.chat_models import ChatOpenAI\n",
    "\n",
    "llm = ChatOpenAI(temperature=0.1)\n",
    "\n",
    "memory = ConversationSummaryBufferMemory(\n",
    "    llm=llm,\n",
    "    max_token_limit=150, # 최대 메세지 토큰 수 (150토큰이 넘어가면 가장 오래된것 부터 요약됨)\n",
    "    return_messages=True # 채팅 모델에 사용하기 위해 설정\n",
    ")\n",
    "\n",
    "def add_message(input, output):\n",
    "    memory.save_context({\"input\": input}, {\"output\": output})\n",
    "\n",
    "def get_history():\n",
    "    return memory.load_memory_variables({})"
   ]
  },
  {
   "cell_type": "code",
   "execution_count": 2,
   "metadata": {},
   "outputs": [],
   "source": [
    "add_message(\"안녕 애플 나는 한국이 너무 좋다\", \"와우 정말 멋진걸!?\")"
   ]
  },
  {
   "cell_type": "code",
   "execution_count": 3,
   "metadata": {},
   "outputs": [],
   "source": [
    "add_message(\"한국은 너무 아름다워\", \"나도 가고 싶다..\")"
   ]
  },
  {
   "cell_type": "code",
   "execution_count": 4,
   "metadata": {},
   "outputs": [
    {
     "data": {
      "text/plain": [
       "{'history': 'Human: 안녕 애플 나는 한국이 너무 좋다\\nAI: 와우 정말 멋진걸!?\\nHuman: 한국은 너무 아름다워\\nAI: 나도 가고 싶다..'}"
      ]
     },
     "execution_count": 4,
     "metadata": {},
     "output_type": "execute_result"
    }
   ],
   "source": [
    "get_history()"
   ]
  },
  {
   "cell_type": "code",
   "execution_count": 5,
   "metadata": {},
   "outputs": [],
   "source": [
    "add_message(\"너도 한국에 놀러와\", \"한국은 어떻게 가??\")\n"
   ]
  },
  {
   "cell_type": "code",
   "execution_count": 6,
   "metadata": {},
   "outputs": [
    {
     "data": {
      "text/plain": [
       "{'history': 'Human: 안녕 애플 나는 한국이 너무 좋다\\nAI: 와우 정말 멋진걸!?\\nHuman: 한국은 너무 아름다워\\nAI: 나도 가고 싶다..\\nHuman: 너도 한국에 놀러와\\nAI: 한국은 어떻게 가??'}"
      ]
     },
     "execution_count": 6,
     "metadata": {},
     "output_type": "execute_result"
    }
   ],
   "source": [
    "get_history()"
   ]
  },
  {
   "cell_type": "code",
   "execution_count": 7,
   "metadata": {},
   "outputs": [
    {
     "data": {
      "text/plain": [
       "{'history': 'Human: 안녕 애플 나는 한국이 너무 좋다\\nAI: 와우 정말 멋진걸!?\\nHuman: 한국은 너무 아름다워\\nAI: 나도 가고 싶다..\\nHuman: 너도 한국에 놀러와\\nAI: 한국은 어떻게 가??\\nHuman: 비행기 타고 ㅋㅋㅋ\\nAI: 난 AI인데..?'}"
      ]
     },
     "execution_count": 7,
     "metadata": {},
     "output_type": "execute_result"
    }
   ],
   "source": [
    "add_message(\"비행기 타고 ㅋㅋㅋ\", \"난 AI인데..?\")\n",
    "get_history()\n"
   ]
  },
  {
   "cell_type": "code",
   "execution_count": 8,
   "metadata": {},
   "outputs": [
    {
     "data": {
      "text/plain": [
       "{'history': 'System: The human greets the AI in Korean and expresses their love for Korea. The AI responds enthusiastically.\\nHuman: 한국은 너무 아름다워\\nAI: 나도 가고 싶다..\\nHuman: 너도 한국에 놀러와\\nAI: 한국은 어떻게 가??\\nHuman: 비행기 타고 ㅋㅋㅋ\\nAI: 난 AI인데..?\\nHuman: 그럼 사진으로 구경을 시켜줄게\\nAI: 와 진짜!! 정말 고마워 기대된다!!'}"
      ]
     },
     "execution_count": 8,
     "metadata": {},
     "output_type": "execute_result"
    }
   ],
   "source": [
    "add_message(\"그럼 사진으로 구경을 시켜줄게\", \"와 진짜!! 정말 고마워 기대된다!!\")\n",
    "get_history()"
   ]
  },
  {
   "cell_type": "code",
   "execution_count": 9,
   "metadata": {},
   "outputs": [
    {
     "data": {
      "text/plain": [
       "{'history': 'System: The human greets the AI in Korean and expresses their love for Korea. The AI responds enthusiastically and expresses a desire to visit Korea. The human invites the AI to come to Korea, and the AI asks how it can get there.\\nHuman: 비행기 타고 ㅋㅋㅋ\\nAI: 난 AI인데..?\\nHuman: 그럼 사진으로 구경을 시켜줄게\\nAI: 와 진짜!! 정말 고마워 기대된다!!\\nHuman: 한국에서 보고 싶은 풍경같은 곳 있어??\\nAI: 나는 서울 명동 거리 보고싶어!! 보여줘!! 상관없어 다 좋아!!'}"
      ]
     },
     "execution_count": 9,
     "metadata": {},
     "output_type": "execute_result"
    }
   ],
   "source": [
    "add_message(\"한국에서 보고 싶은 풍경같은 곳 있어??\", \"나는 서울 명동 거리 보고싶어!! 보여줘!! 상관없어 다 좋아!!\")\n",
    "get_history()"
   ]
  },
  {
   "cell_type": "code",
   "execution_count": null,
   "metadata": {},
   "outputs": [],
   "source": []
  }
 ],
 "metadata": {
  "kernelspec": {
   "display_name": "env",
   "language": "python",
   "name": "python3"
  },
  "language_info": {
   "codemirror_mode": {
    "name": "ipython",
    "version": 3
   },
   "file_extension": ".py",
   "mimetype": "text/x-python",
   "name": "python",
   "nbconvert_exporter": "python",
   "pygments_lexer": "ipython3",
   "version": "3.11.6"
  }
 },
 "nbformat": 4,
 "nbformat_minor": 2
}
